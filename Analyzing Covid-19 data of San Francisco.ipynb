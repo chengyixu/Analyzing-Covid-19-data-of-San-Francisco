{
 "cells": [
  {
   "attachments": {},
   "cell_type": "markdown",
   "metadata": {},
   "source": [
    "# CovidSFPlot.py"
   ]
  },
  {
   "cell_type": "code",
   "execution_count": 1,
   "metadata": {},
   "outputs": [],
   "source": [
    "import matplotlib.pyplot as plt\n",
    "\n",
    "# Function to plot the San Francisco Covid data\n",
    "def fPlotSFCovid(pFileName):\n",
    "    x = []  # dates\n",
    "    y = []  # moving averages\n",
    "    \n",
    "    # Read the file and extract date and moving average data\n",
    "    with open(pFileName, \"r\") as file:\n",
    "        for line in file:\n",
    "            date, cases, mov_avg = line.strip().split(\",\")\n",
    "            x.append(date)\n",
    "            y.append(float(mov_avg))\n",
    "    \n",
    "    # Customize the plot axes\n",
    "    ax = plt.axes()\n",
    "    ax.xaxis.set_major_locator(plt.MaxNLocator(4))\n",
    "    ax.yaxis.set_major_locator(plt.MaxNLocator(4))\n",
    "    \n",
    "    # Create the scatter plot\n",
    "    plt.scatter(x, y, c='blue')\n",
    "    \n",
    "    # Show the plot\n",
    "    plt.show()"
   ]
  },
  {
   "attachments": {},
   "cell_type": "markdown",
   "metadata": {},
   "source": [
    "# Project2.py"
   ]
  },
  {
   "cell_type": "code",
   "execution_count": 2,
   "metadata": {},
   "outputs": [
    {
     "data": {
      "image/png": "[encoded data removed]",
      "text/plain": [
       "<Figure size 640x480 with 1 Axes>"
      ]
     },
     "metadata": {},
     "output_type": "display_data"
    }
   ],
   "source": [
    "import os\n",
    "import CovidSFPlot as plot\n",
    "\n",
    "# Define input and output file paths and moving average window\n",
    "FILE_PATH_INPUT = [\"us-counties-2020.csv\", \"us-counties-2021.csv\", \"us-counties-2022.csv\"]\n",
    "FILE_PATH_OUTPUT = \"covid-SF.csv\"\n",
    "WINDOW = 7\n",
    "\n",
    "def main():\n",
    "    # Delete output file if it exists\n",
    "    if os.path.exists(FILE_PATH_OUTPUT):\n",
    "        os.remove(FILE_PATH_OUTPUT)\n",
    "\n",
    "    # Read and process input files\n",
    "    for file in FILE_PATH_INPUT:\n",
    "        sf_data = fReadInputFile(file)\n",
    "        fWriteOutputFile(sf_data)\n",
    "    \n",
    "    # Read output file and calculate moving averages\n",
    "    sf_daily_cases = fReadOutputFile(FILE_PATH_OUTPUT)\n",
    "    sf_mov_avg = fCalcMovAvg(sf_daily_cases)\n",
    "    fWriteMovAvgFile(sf_mov_avg)\n",
    "\n",
    "    # Plot the data\n",
    "    plot.fPlotSFCovid(FILE_PATH_OUTPUT)\n",
    "\n",
    "# Function to read input files and extract San Francisco Covid data\n",
    "def fReadInputFile(pFileName):\n",
    "    data = []\n",
    "    prev_cumulative_cases = 0\n",
    "    with open(pFileName, \"r\") as file:\n",
    "        for line in file:\n",
    "            if \"San Francisco\" in line:\n",
    "                columns = line.strip().split(\",\")\n",
    "                date = columns[0]\n",
    "                cumulative_cases = columns[4]\n",
    "                daily_cases = int(cumulative_cases) - prev_cumulative_cases\n",
    "                prev_cumulative_cases = int(cumulative_cases)\n",
    "                if daily_cases > 2000:\n",
    "                    daily_cases = 2000\n",
    "                data.append(f\"{date},{daily_cases}\\n\")\n",
    "    return data\n",
    "\n",
    "# Function to write data to output file\n",
    "def fWriteOutputFile(pList):\n",
    "    with open(FILE_PATH_OUTPUT, \"a\") as file:\n",
    "        for item in pList:\n",
    "            file.write(item)\n",
    "\n",
    "# Function to read output file and extract daily case numbers\n",
    "def fReadOutputFile(pFile):\n",
    "    daily_cases = []\n",
    "    with open(pFile, \"r\") as file:\n",
    "        for line in file:\n",
    "            date, cases = line.strip().split(\",\")\n",
    "            daily_cases.append(int(cases))\n",
    "    return daily_cases\n",
    "\n",
    "# Function to calculate moving averages\n",
    "def fCalcMovAvg(pList):\n",
    "    lstMovAvg = []\n",
    "    for i in range(len(pList)):\n",
    "        if i < 6:\n",
    "            lstMovAvg.append(0)\n",
    "        else:\n",
    "            mov_avg = sum(pList[i-6:i+1]) / WINDOW\n",
    "            lstMovAvg.append(mov_avg)\n",
    "    return lstMovAvg\n",
    "\n",
    "# Function to write moving averages to output file\n",
    "def fWriteMovAvgFile(pListMovAvg):\n",
    "    modified_content = \"\"\n",
    "    with open(FILE_PATH_OUTPUT, \"r\") as file:\n",
    "        lines = file.readlines()\n",
    "        for i, line in enumerate(lines):\n",
    "            modified_line = line.strip() + f\",{pListMovAvg[i]}\\n\"\n",
    "            modified_content += modified_line\n",
    "\n",
    "    # Write the modified content with moving averages back to the output file\n",
    "    with open(FILE_PATH_OUTPUT, \"w\") as file:\n",
    "        file.write(modified_content)\n",
    "\n",
    "# Run the main function when this script is executed\n",
    "if __name__ == \"__main__\":\n",
    "    main()"
   ]
  }
 ],
 "metadata": {
  "kernelspec": {
   "display_name": "Python 3",
   "language": "python",
   "name": "python3"
  },
  "language_info": {
   "codemirror_mode": {
    "name": "ipython",
    "version": 3
   },
   "file_extension": ".py",
   "mimetype": "text/x-python",
   "name": "python",
   "nbconvert_exporter": "python",
   "pygments_lexer": "ipython3",
   "version": "3.10.0"
  },
  "orig_nbformat": 4
 },
 "nbformat": 4,
 "nbformat_minor": 2
}
